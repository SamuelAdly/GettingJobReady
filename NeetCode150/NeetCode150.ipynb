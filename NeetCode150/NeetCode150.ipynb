{
 "cells": [
  {
   "cell_type": "markdown",
   "id": "9d554704",
   "metadata": {},
   "source": [
    "# Two Sum\n",
    "Given an array of integers nums and an integer target, return the indices i and j such that nums[i] + nums[j] == target and i != j."
   ]
  },
  {
   "cell_type": "raw",
   "id": "27d1f727",
   "metadata": {
    "vscode": {
     "languageId": "raw"
    }
   },
   "source": [
    "class Solution {\n",
    "    public int[] twoSum(int[] nums, int target) {\n",
    "        int[] indicies = new int[2];\n",
    "        for (int i = 0; i < nums.length; i++) {\n",
    "            for (int j = i+1; j <nums.length; j++) {\n",
    "            if (nums[i] + nums[j] == target) {\n",
    "                indicies[0] = i;\n",
    "                indicies[1] = j;\n",
    "                break;\n",
    "            }\n",
    "            }\n",
    "\n",
    "        }\n",
    "        return indicies;\n",
    "    }\n",
    "}"
   ]
  },
  {
   "cell_type": "raw",
   "metadata": {
    "vscode": {
     "languageId": "raw"
    }
   },
   "source": [
    "class Solution {\n",
    "    public int[] twoSum(int[] nums, int target) {\n",
    "        int[] indicies = new int[2];\n",
    "        HashMap <Integer, Integer> calc = new HashMap<Integer, Integer>();\n",
    "        for (int i = 0; i < nums.length; i++) {\n",
    "            int missing = target - nums[i];\n",
    "            if (calc.containsKey(missing)) {\n",
    "                indicies[0] = calc.get(missing);\n",
    "                indicies[1] = i;\n",
    "            }\n",
    "            calc.put(nums[i],i);\n",
    "        }\n",
    "        System.out.println(calc);\n",
    "        return indicies;\n",
    "    }\n",
    "}"
   ]
  },
  {
   "cell_type": "markdown",
   "id": "9ca04ec1",
   "metadata": {},
   "source": [
    "# Group Anagrams\n",
    "\n",
    "Given an array of strings strs, group all anagrams together into sublists. You may return the output in any order.\n",
    "An anagram is a string that contains the exact same characters as another string, but the order of the characters can be different."
   ]
  },
  {
   "cell_type": "raw",
   "metadata": {
    "vscode": {
     "languageId": "raw"
    }
   },
   "source": [
    "class Solution {\n",
    "    public List<List<String>> groupAnagrams(String[] strs) {\n",
    "        Map<String, List<String>> map = new HashMap<>();\n",
    "        for (String str: strs) {\n",
    "            char[] charArray = str.toCharArray();\n",
    "            Arrays.sort(charArray);\n",
    "            String sortedStr = new String(charArray);\n",
    "            if (!map.containsKey(sortedStr)) {\n",
    "                map.put(sortedStr, new ArrayList<>());\n",
    "            }\n",
    "            map.get(sortedStr).add(str);\n",
    "        }\n",
    "        \n",
    "        return new ArrayList<>(map.values());\n",
    "    }\n",
    "}\n"
   ]
  },
  {
   "cell_type": "markdown",
   "id": "62f3a9df",
   "metadata": {},
   "source": [
    "# Top K Frequent Elements\n",
    "Given an integer array nums and an integer k, return the k most frequent elements within the array."
   ]
  },
  {
   "cell_type": "raw",
   "id": "93895cbd",
   "metadata": {
    "vscode": {
     "languageId": "raw"
    }
   },
   "source": [
    "class Solution {\n",
    "    public int[] topKFrequent(int[] nums, int k) {\n",
    "        // save each element's appearance in a table\n",
    "        Map<Integer, Integer> bucket1 = new HashMap<>();\n",
    "        for (int num : nums) {\n",
    "            bucket1.put(num, bucket1.getOrDefault(num, 0) + 1);\n",
    "        }\n",
    "\n",
    "        // Store each element's frequence as the key\n",
    "        Map<Integer, List<Integer>> bucket2 = new HashMap<>();\n",
    "        for (Integer num : bucket1.keySet()) {\n",
    "            Integer elementFreq = bucket1.get(num);\n",
    "            if (!bucket2.containsKey(elementFreq)) {\n",
    "                bucket2.put(elementFreq, new ArrayList<>());\n",
    "            }\n",
    "            bucket2.get(elementFreq).add(num);\n",
    "        }\n",
    "        // Get Top K elements\n",
    "        int[] res = new int[k];\n",
    "        for (int n = nums.length; n > 0; n--) {\n",
    "            if (bucket2.containsKey(n)) {\n",
    "                List<Integer> list = bucket2.get(n);\n",
    "                for (Integer integer : list) {\n",
    "                    res[--k] = integer;\n",
    "                    if (k == 0)\n",
    "                        return res;\n",
    "                }\n",
    "            }\n",
    "        }\n",
    "        return res;\n",
    "    }\n",
    "}"
   ]
  },
  {
   "cell_type": "markdown",
   "id": "a0b42318",
   "metadata": {},
   "source": [
    "# Encode and Decode Strings\n",
    "Design an algorithm to encode a list of strings to a single string. The encoded string is then decoded back to the original list of strings."
   ]
  },
  {
   "cell_type": "raw",
   "metadata": {
    "vscode": {
     "languageId": "raw"
    }
   },
   "source": [
    "public class EncodeDecodeStrings {\n",
    "    public String encode(List<String> inputList) {\n",
    "        return String.join(\":;\", inputList); // Join elements with \":;\"\n",
    "    }\n",
    "\n",
    "    // Decodes a single string to a list of strings\n",
    "    public List<String> decode(String inputString) {\n",
    "        return Arrays.asList(inputString.split(\":;\")); // Split by \":;\"\n",
    "    }\n",
    "}"
   ]
  },
  {
   "cell_type": "raw",
   "metadata": {
    "vscode": {
     "languageId": "raw"
    }
   },
   "source": [
    "public class Codec {\n",
    "    public String encode(List<String> strs) {\n",
    "        StringBuilder encoded = new StringBuilder();\n",
    "        for (String str : strs) {\n",
    "            encoded.append(str.length()).append(\"#\").append(str);\n",
    "        }\n",
    "        return encoded.toString();\n",
    "    }\n",
    "\n",
    "    public List<String> decode(String s) {\n",
    "        List<String> result = new ArrayList<>();\n",
    "        int i = 0;\n",
    "        while (i < s.length()) {\n",
    "            int j = i;\n",
    "            while (s.charAt(j) != '#') {\n",
    "                j++;\n",
    "            }\n",
    "            int length = Integer.parseInt(s.substring(i, j));\n",
    "            i = j + 1;\n",
    "            result.add(s.substring(i, i + length));\n",
    "            i += length;\n",
    "        }\n",
    "        return result;\n",
    "    }\n",
    "}"
   ]
  },
  {
   "cell_type": "raw",
   "id": "99f30963",
   "metadata": {
    "vscode": {
     "languageId": "raw"
    }
   },
   "source": [
    "public class Solution {\n",
    "    \n",
    "    public String encode(List<String> strs) {\n",
    "        StringBuilder res = new StringBuilder();\n",
    "        for (String s : strs) {\n",
    "            res.append(s.length()).append('#').append(s);\n",
    "        }\n",
    "        return res.toString();\n",
    "    }\n",
    "\n",
    "    public List<String> decode(String str) {\n",
    "        List<String> res = new ArrayList<>();\n",
    "        int i = 0;\n",
    "        while (i < str.length()) {\n",
    "            int j = i;\n",
    "            while (str.charAt(j) != '#') {\n",
    "                j++;\n",
    "            }\n",
    "            int length = Integer.parseInt(str.substring(i, j));\n",
    "            i = j + 1;\n",
    "            j = i + length;\n",
    "            res.add(str.substring(i, j));\n",
    "            i = j;\n",
    "        }\n",
    "        return res;\n",
    "    }\n",
    "}"
   ]
  },
  {
   "cell_type": "markdown",
   "id": "57ca4755",
   "metadata": {},
   "source": [
    "# Products of Array Except Self\n",
    "Given an integer array nums, return an array output where output[i] is the product of all the elements of nums except nums[i]."
   ]
  },
  {
   "cell_type": "raw",
   "id": "8fa7433a",
   "metadata": {
    "vscode": {
     "languageId": "raw"
    }
   },
   "source": [
    "public class Solution {\n",
    "    public int[] productExceptSelf(int[] nums) {\n",
    "        int[] res = new int[nums.length];\n",
    "\n",
    "        for (int i = 0; i < nums.length; i++) {\n",
    "            int prod = 1;\n",
    "            for (int j = 0; j < nums.length; j++) {\n",
    "                if (i != j) {\n",
    "                    prod *= nums[j];\n",
    "                }\n",
    "            }\n",
    "            res[i] = prod;\n",
    "        }\n",
    "        return res;\n",
    "    }\n",
    "}"
   ]
  },
  {
   "cell_type": "raw",
   "metadata": {
    "vscode": {
     "languageId": "raw"
    }
   },
   "source": [
    "package leetcode.medium;\n",
    "\n",
    "/**\n",
    " * Created by nikoo28 on 7/12/19 1:23 AM\n",
    " */\n",
    "\n",
    "class ProductOfArrayExceptSelf {\n",
    "\n",
    "  public int[] productExceptSelf(int[] nums) {\n",
    "\n",
    "    // Array to store all left multiplication\n",
    "    int[] left = new int[nums.length];\n",
    "\n",
    "    // Array to store all right multiplication\n",
    "    int[] right = new int[nums.length];\n",
    "\n",
    "    left[0] = 1;\n",
    "    for (int i = 1; i < nums.length; i++) {\n",
    "      left[i] = left[i - 1] * nums[i - 1];\n",
    "    }\n",
    "\n",
    "    right[nums.length - 1] = 1;\n",
    "    for (int i = nums.length - 2; i > -1; i--) {\n",
    "      right[i] = right[i + 1] * nums[i + 1];\n",
    "    }\n",
    "\n",
    "    int[] ans = new int[nums.length];\n",
    "    for (int i = 0; i < nums.length; i++) {\n",
    "      ans[i] = left[i] * right[i];\n",
    "    }\n",
    "\n",
    "    return ans;\n",
    "  }\n",
    "\n",
    "}"
   ]
  },
  {
   "cell_type": "raw",
   "id": "6fcd4a88",
   "metadata": {
    "vscode": {
     "languageId": "raw"
    }
   },
   "source": [
    "public class Solution {\n",
    "    public int[] productExceptSelf(int[] nums) {\n",
    "        int n = nums.length;\n",
    "        int[] res = new int[n];\n",
    "\n",
    "        res[0] = 1;\n",
    "        for (int i = 1; i < n; i++) {\n",
    "            res[i] = res[i - 1] * nums[i - 1];\n",
    "        }\n",
    "        \n",
    "        int postfix = 1;\n",
    "        for (int i = n - 1; i >= 0; i--) {\n",
    "            res[i] *= postfix;\n",
    "            postfix *= nums[i];\n",
    "        }\n",
    "        return res;\n",
    "    }\n",
    "}"
   ]
  },
  {
   "cell_type": "markdown",
   "id": "316338e6",
   "metadata": {},
   "source": [
    "# Longest Consecutive Sequence\n",
    "Given an array of integers nums, return the length of the longest consecutive sequence of elements that can be formed.\n",
    "\n",
    "A consecutive sequence is a sequence of elements in which each element is exactly 1 greater than the previous element. The elements do not have to be consecutive in the original array.\n",
    "\n",
    "You must write an algorithm that runs in O(n) time."
   ]
  },
  {
   "cell_type": "raw",
   "id": "c4881528",
   "metadata": {
    "vscode": {
     "languageId": "raw"
    }
   },
   "source": [
    "package leetcode.medium;\n",
    "\n",
    "import java.util.HashMap;\n",
    "import java.util.Map;\n",
    "\n",
    "/**\n",
    " * Created by nikoo28 on 9/18/22 1:46 PM\n",
    " */\n",
    "\n",
    "public class LongestConsecutiveSequence {\n",
    "\n",
    "  int longestConsecutive(int[] nums) {\n",
    "\n",
    "    int longestLength = 0;\n",
    "    Map<Integer, Boolean> numberTravelledMap = new HashMap<>();\n",
    "    for (int num : nums) {\n",
    "      numberTravelledMap.put(num, Boolean.FALSE);\n",
    "    }\n",
    "\n",
    "    for (int num : nums) {\n",
    "      int currentLength = 1;\n",
    "\n",
    "      // Check in forward direction\n",
    "      int nextNum = num + 1;\n",
    "      while (numberTravelledMap.containsKey(nextNum) &&\n",
    "          numberTravelledMap.get(nextNum) == false) {\n",
    "\n",
    "        currentLength++;\n",
    "        numberTravelledMap.put(nextNum, Boolean.TRUE);\n",
    "\n",
    "        // Move to the next number\n",
    "        nextNum++;\n",
    "      }\n",
    "\n",
    "      // Check in reverse direction\n",
    "      int prevNum = num - 1;\n",
    "      while (numberTravelledMap.containsKey(prevNum) &&\n",
    "          numberTravelledMap.get(prevNum) == false) {\n",
    "\n",
    "        currentLength++;\n",
    "        numberTravelledMap.put(prevNum, Boolean.TRUE);\n",
    "\n",
    "        // Move to the previous number\n",
    "        prevNum--;\n",
    "      }\n",
    "\n",
    "      longestLength = Math.max(longestLength, currentLength);\n",
    "    }\n",
    "\n",
    "    return longestLength;\n",
    "  }\n",
    "\n",
    "}"
   ]
  },
  {
   "cell_type": "markdown",
   "id": "a28c7d62",
   "metadata": {},
   "source": [
    "#"
   ]
  },
  {
   "cell_type": "markdown",
   "id": "9fc88803",
   "metadata": {},
   "source": [
    "# Valid Sudoku\n",
    "You are given a 9 x 9 Sudoku board board. A Sudoku board is valid if the following rules are followed:\n",
    "\n",
    "Each row must contain the digits 1-9 without duplicates.\n",
    "Each column must contain the digits 1-9 without duplicates.\n",
    "Each of the nine 3 x 3 sub-boxes of the grid must contain the digits 1-9 without duplicates.\n",
    "Return true if the Sudoku board is valid, otherwise return false\n",
    "\n",
    "Note: A board does not need to be full or be solvable to be valid."
   ]
  },
  {
   "cell_type": "raw",
   "id": "6e84064a",
   "metadata": {
    "vscode": {
     "languageId": "raw"
    }
   },
   "source": [
    "/**\n",
    " * Time: O(1) -> There are 81 total cells to iterate over and in Big-O notation, we drop constants\n",
    " * Space: O(1) -> Our hash maps all have a finite number of elements they can store (we drop constants)\n",
    " */\n",
    "class Solution {\n",
    "    public boolean isValidSudoku(char[][] board) {\n",
    "        Map<Integer, Integer> [] rows = new HashMap[9];\n",
    "        Map<Integer, Integer> [] columns = new HashMap[9];\n",
    "        Map<Integer, Integer> [] boxes = new HashMap[9];\n",
    "        \n",
    "        for (int i = 0; i < 9; i++) {\n",
    "            // Initialize one hash map for each row and column and sub grid\n",
    "            rows[i] = new HashMap<Integer, Integer>();\n",
    "            columns[i] = new HashMap<Integer, Integer>();\n",
    "            boxes[i] = new HashMap<Integer, Integer>();\n",
    "\n",
    "        }\n",
    "        for (int i = 0; i < board.length; i++) {\n",
    "            for (int j = 0; j < board[i].length; j++) {\n",
    "                char current = board[i][j];\n",
    "                if (current != '.') {\n",
    "                    int num = (int) current;\n",
    "                    int boxIndex = (i / 3) * 3 + j / 3;\n",
    "                    \n",
    "                    \n",
    "                    // Update how many times weve seen this num in this row and col\n",
    "                    rows[i].put(num, rows[i].getOrDefault(num, 0) + 1);\n",
    "                    columns[j].put(num, columns[j].getOrDefault(num, 0) + 1);\n",
    "                    boxes[boxIndex].put(num, boxes[boxIndex].getOrDefault(num, 0) + 1);\n",
    "                    \n",
    "                    // Checking whether this number is duplicated\n",
    "                    if (rows[i].get(num) > 1 || columns[j].get(num) > 1 || \n",
    "                        boxes[boxIndex].get(num) > 1) {\n",
    "                        return false;\n",
    "                    }\n",
    "                    \n",
    "                    // this code is theoretically faster\n",
    "                    // int subGridRowStart = (i / 3) * 3;\n",
    "                    // int subGridColStart = (j / 3) * 3;\n",
    "                    // for (int l = 0; l < 3; l++){\n",
    "                    //     for (int m = 0; m < 3; m++) {\n",
    "                    //         if (i != subGridRowStart + l && j != subGridColStart + m &&\n",
    "                    //            board[subGridRowStart + l][subGridColStart + m] == board[i][j]) {\n",
    "                    //             // We've seen this char\n",
    "                    //             return false;\n",
    "                    //         }\n",
    "                    //     }\n",
    "                    // }\n",
    "                    \n",
    "                }\n",
    "            }\n",
    "        }\n",
    "        return true;\n",
    "    }\n",
    "}\n",
    "\n",
    "// Visualizing an array of maps\n",
    "// [\n",
    "//     ( (x:y), (x:y), (x:y) ), // row[0]\n",
    "//     ( (x:y), (x:y), (x:y) ), // row[1]\n",
    "//     ( (x:y), (x:y), (x:y) ), // row[2]\n",
    "// ]"
   ]
  },
  {
   "cell_type": "markdown",
   "id": "4450abc9",
   "metadata": {},
   "source": [
    "# Valid Palindrome\n",
    "Given a string s, return true if it is a palindrome, otherwise return false.\n",
    "A palindrome is a string that reads the same forward and backward. It is also case-insensitive and ignores all non-alphanumeric characters."
   ]
  },
  {
   "cell_type": "raw",
   "id": "6e348f33",
   "metadata": {
    "vscode": {
     "languageId": "raw"
    }
   },
   "source": [
    "class Solution {\n",
    "    public boolean isPalindrome(String s) {\n",
    "        String str = s.replaceAll(\"[\\\\s\\\\p{Punct}]+\", \"\");\n",
    "        if (str.isEmpty()) return true;\n",
    "        int i = 0;\n",
    "        int j = str.length() - 1;\n",
    "        while (j != 0) {\n",
    "            if (Character.toLowerCase(str.charAt(i)) == Character.toLowerCase(str.charAt(j))) {\n",
    "                i += 1;\n",
    "                j -= 1;\n",
    "            }\n",
    "            else return false;\n",
    "        }\n",
    "        return true;\n",
    "        \n",
    "    }\n",
    "}\n"
   ]
  },
  {
   "cell_type": "raw",
   "id": "0d7b5859",
   "metadata": {
    "vscode": {
     "languageId": "raw"
    }
   },
   "source": [
    "class Solution {\n",
    "    public boolean isPalindrome(String s) {\n",
    "        String str = s.replaceAll(\"[\\\\s\\\\p{Punct}]+\", \"\");\n",
    "        str = str.toLowerCase();\n",
    "        if (str.isEmpty()) return true;\n",
    "        StringBuilder rev = new StringBuilder();\n",
    "        rev.append(str);\n",
    "        rev.reverse();\n",
    "        if (str.equals(rev.toString())) return true;\n",
    "        return false;\n",
    "    }\n",
    "}"
   ]
  },
  {
   "cell_type": "markdown",
   "id": "b7d2d80d",
   "metadata": {},
   "source": [
    "# Two Integer Sum II\n",
    "Given an array of integers numbers that is sorted in non-decreasing order.\n",
    "\n",
    "Return the indices (1-indexed) of two numbers, [index1, index2], such that they add up to a given target number target and index1 < index2. Note that index1 and index2 cannot be equal, therefore you may not use the same element twice.\n",
    "\n",
    "There will always be exactly one valid solution.\n",
    "\n",
    "Your solution must use O(1) additional space."
   ]
  },
  {
   "cell_type": "raw",
   "id": "1d83a402",
   "metadata": {
    "vscode": {
     "languageId": "raw"
    }
   },
   "source": [
    "class Solution {\n",
    "    public int[] twoSum(int[] numbers, int target) {\n",
    "        int[] answer = new int[2];\n",
    "        for (int i = 0; i < numbers.length; i++) {\n",
    "            for (int j = i+1; j < numbers.length; j++) {\n",
    "                if (numbers[i] + numbers[j] == target) {\n",
    "                    answer[0] = i+1;\n",
    "                    answer[1] = j+1;\n",
    "                    \n",
    "                }\n",
    "            }\n",
    "        }\n",
    "        return answer;\n",
    "    }\n",
    "}"
   ]
  },
  {
   "cell_type": "raw",
   "id": "e742f17b",
   "metadata": {
    "vscode": {
     "languageId": "raw"
    }
   },
   "source": [
    "class Solution {\n",
    "    public int[] twoSum(int[] numbers, int target) {\n",
    "        int index1 = 0;\n",
    "        int index2 = numbers.length - 1;\n",
    "        int[] nums = new int[2];\n",
    "        while (index1 != index2) {\n",
    "            if (numbers[index1] + numbers[index2] == target) {\n",
    "                nums[0] = index1 + 1;\n",
    "                nums[1] = index2 + 1;\n",
    "                return nums;\n",
    "            } else if (numbers[index1] + numbers[index2] < target) {\n",
    "                index1 += 1;\n",
    "            } else {\n",
    "                index2 -= 1;\n",
    "                }\n",
    "            }\n",
    "            return nums;\n",
    "        }\n",
    "    }"
   ]
  },
  {
   "cell_type": "markdown",
   "id": "41a81003",
   "metadata": {},
   "source": [
    "# 3Sum\n",
    "Given an integer array nums, return all the triplets [nums[i], nums[j], nums[k]] where nums[i] + nums[j] + nums[k] == 0, and the indices i, j and k are all distinct.\n",
    "\n",
    "The output should not contain any duplicate triplets. You may return the output and the triplets in any order."
   ]
  },
  {
   "cell_type": "raw",
   "id": "d7844dd6",
   "metadata": {
    "vscode": {
     "languageId": "raw"
    }
   },
   "source": [
    "public class Solution {\n",
    "    public List<List<Integer>> threeSum(int[] nums) {\n",
    "        Arrays.sort(nums);\n",
    "        List<List<Integer>> res = new ArrayList<>();\n",
    "\n",
    "        for (int i = 0; i < nums.length; i++) {\n",
    "            if (nums[i] > 0) break;\n",
    "            if (i > 0 && nums[i] == nums[i - 1]) continue;\n",
    "\n",
    "            int l = i + 1, r = nums.length - 1;\n",
    "            while (l < r) {\n",
    "                int sum = nums[i] + nums[l] + nums[r];\n",
    "                if (sum > 0) {\n",
    "                    r--;\n",
    "                } else if (sum < 0) {\n",
    "                    l++;\n",
    "                } else {\n",
    "                    res.add(Arrays.asList(nums[i], nums[l], nums[r]));\n",
    "                    l++;\n",
    "                    r--;\n",
    "                    while (l < r && nums[l] == nums[l - 1]) {\n",
    "                        l++;\n",
    "                    }\n",
    "                }\n",
    "            }\n",
    "        }\n",
    "        return res;\n",
    "    }\n",
    "}"
   ]
  },
  {
   "cell_type": "markdown",
   "id": "fd0e8937",
   "metadata": {},
   "source": [
    "# Container With Most Water\n",
    "You are given an integer array heights where heights[i] represents the height of the i th bar.\n",
    "\n",
    "You may choose any two bars to form a container. Return the maximum amount of water a container can store."
   ]
  },
  {
   "cell_type": "raw",
   "id": "be4d29f6",
   "metadata": {
    "vscode": {
     "languageId": "raw"
    }
   },
   "source": [
    "class Solution {\n",
    "    public int maxArea(int[] heights) {\n",
    "        int max = 0;\n",
    "        int left = 0;\n",
    "        int right = heights.length - 1;\n",
    "        while (left < right) {\n",
    "            int area = (right - left) * (Math.min(heights[left], heights[right]));\n",
    "            if (area > max) {\n",
    "                max = area;\n",
    "            }\n",
    "            if (heights[left] > heights[right]) {\n",
    "                right--;\n",
    "            }\n",
    "            else {\n",
    "                left++;\n",
    "            }\n",
    "        }\n",
    "        return max;\n",
    "    }\n",
    "}\n"
   ]
  },
  {
   "cell_type": "markdown",
   "id": "e374e3f2",
   "metadata": {},
   "source": [
    "# Trapping Rain Water\n",
    "You are given an array of non-negative integers height which represent an elevation map. Each value height[i] represents the height of a bar, which has a width of 1.\n",
    "\n",
    "Return the maximum area of water that can be trapped between the bars."
   ]
  },
  {
   "cell_type": "raw",
   "id": "ccae8f3a",
   "metadata": {
    "vscode": {
     "languageId": "raw"
    }
   },
   "source": [
    "public class Solution {\n",
    "    public int trap(int[] height) {\n",
    "        if (height == null || height.length == 0) {\n",
    "            return 0;\n",
    "        }\n",
    "\n",
    "        int l = 0, r = height.length - 1;\n",
    "        int leftMax = height[l], rightMax = height[r];\n",
    "        int res = 0;\n",
    "        while (l < r) {\n",
    "            if (leftMax < rightMax) {\n",
    "                l++;\n",
    "                leftMax = Math.max(leftMax, height[l]);\n",
    "                res += leftMax - height[l];\n",
    "            } else {\n",
    "                r--;\n",
    "                rightMax = Math.max(rightMax, height[r]);\n",
    "                res += rightMax - height[r];\n",
    "            }\n",
    "        }\n",
    "        return res;\n",
    "    }\n",
    "}"
   ]
  },
  {
   "cell_type": "markdown",
   "id": "6e6a15e5",
   "metadata": {},
   "source": [
    "# Valid Parentheses\n",
    "You are given a string s consisting of the following characters: '(', ')', '{', '}', '[' and ']'.\n",
    "\n",
    "The input string s is valid if and only if:\n",
    "\n",
    "Every open bracket is closed by the same type of close bracket.\n",
    "Open brackets are closed in the correct order.\n",
    "Every close bracket has a corresponding open bracket of the same type.\n",
    "Return true if s is a valid string, and false otherwise."
   ]
  },
  {
   "cell_type": "raw",
   "id": "75169896",
   "metadata": {
    "vscode": {
     "languageId": "raw"
    }
   },
   "source": [
    "class Solution {\n",
    "    public boolean isValid(String s) {\n",
    "        Stack<Character> tracker = new Stack<>();\n",
    "        char[] charArray = s.toCharArray();\n",
    "        for (int i = 0; i < charArray.length; i++) {\n",
    "            System.out.println(charArray[i]);\n",
    "            switch (charArray[i]) {\n",
    "                case '(':\n",
    "                case '{':\n",
    "                case '[':\n",
    "                    System.out.println(\"pushing \" + charArray[i]);\n",
    "                    tracker.push(charArray[i]);\n",
    "                    break;\n",
    "                case ')':\n",
    "                    if (tracker.isEmpty() || tracker.pop() != '(') {\n",
    "                        return false;\n",
    "                    }\n",
    "                    break;\n",
    "                case '}':\n",
    "                    if (tracker.isEmpty() || tracker.pop() != '{') {\n",
    "                        return false;\n",
    "                    }\n",
    "                    break;\n",
    "                case ']':\n",
    "                    if (tracker.isEmpty() || tracker.pop() != '[') {\n",
    "                        return false;\n",
    "                    }\n",
    "                    break;\n",
    "            }\n",
    "        }\n",
    "        return tracker.isEmpty();\n",
    "    }\n",
    "}"
   ]
  },
  {
   "cell_type": "markdown",
   "id": "81e30fcc",
   "metadata": {},
   "source": [
    "# Minimum Stack\n",
    "Design a stack class that supports the push, pop, top, and getMin operations.\n",
    "\n",
    "MinStack() initializes the stack object.\n",
    "void push(int val) pushes the element val onto the stack.\n",
    "void pop() removes the element on the top of the stack.\n",
    "int top() gets the top element of the stack.\n",
    "int getMin() retrieves the minimum element in the stack.\n",
    "Each function should run in O(1) time."
   ]
  },
  {
   "cell_type": "raw",
   "id": "07fd980b",
   "metadata": {
    "vscode": {
     "languageId": "raw"
    }
   },
   "source": [
    "public class MinStack {\n",
    "    private Stack<Integer> stack;\n",
    "    private Stack<Integer> minStack;\n",
    "\n",
    "    public MinStack() {\n",
    "        stack = new Stack<>();\n",
    "        minStack = new Stack<>();\n",
    "    }\n",
    "    \n",
    "    public void push(int val) {\n",
    "        stack.push(val);\n",
    "        if (minStack.isEmpty() || val <= minStack.peek()) {\n",
    "            minStack.push(val);\n",
    "        }\n",
    "    }\n",
    "    \n",
    "    public void pop() {\n",
    "        if (stack.isEmpty()) return;\n",
    "        int top = stack.pop();\n",
    "        if (top == minStack.peek()) {\n",
    "            minStack.pop();\n",
    "        }\n",
    "    }\n",
    "    \n",
    "    public int top() {\n",
    "        return stack.peek();\n",
    "    }\n",
    "    \n",
    "    public int getMin() {\n",
    "        return minStack.peek();\n",
    "    }\n",
    "}"
   ]
  },
  {
   "cell_type": "markdown",
   "id": "6deafdf4",
   "metadata": {},
   "source": [
    "# Evaluate Reverse Polish Notation\n",
    "You are given an array of strings tokens that represents a valid arithmetic expression in Reverse Polish Notation.\n",
    "\n",
    "Return the integer that represents the evaluation of the expression.\n",
    "\n",
    "The operands may be integers or the results of other operations.\n",
    "The operators include '+', '-', '*', and '/'.\n",
    "Assume that division between integers always truncates toward zero."
   ]
  },
  {
   "cell_type": "raw",
   "metadata": {
    "vscode": {
     "languageId": "raw"
    }
   },
   "source": [
    "class Solution {\n",
    "    public int evalRPN(String[] tokens) {\n",
    "        Stack<Integer> stack = new Stack<>();\n",
    "\n",
    "        for (String token : tokens) {\n",
    "            if (isInteger(token)) {\n",
    "                stack.push(Integer.parseInt(token));\n",
    "            } else {\n",
    "                int b = stack.pop();\n",
    "                int a = stack.pop();\n",
    "                int result = 0;\n",
    "\n",
    "                switch (token) {\n",
    "                    case \"+\":\n",
    "                        result = a + b;\n",
    "                        break;\n",
    "                    case \"-\":\n",
    "                        result = a - b;\n",
    "                        break;\n",
    "                    case \"*\":\n",
    "                        result = a * b;\n",
    "                        break;\n",
    "                    case \"/\":\n",
    "                        result = a / b;\n",
    "                        break;\n",
    "                }\n",
    "                stack.push(result);\n",
    "            }\n",
    "        }\n",
    "\n",
    "        return stack.pop();\n",
    "    }\n",
    "\n",
    "    private boolean isInteger(String s) {\n",
    "        try {\n",
    "            Integer.parseInt(s);\n",
    "            return true;\n",
    "        } catch (NumberFormatException e) {\n",
    "            return false;\n",
    "        }\n",
    "    }\n",
    "}\n"
   ]
  },
  {
   "cell_type": "raw",
   "metadata": {
    "vscode": {
     "languageId": "raw"
    }
   },
   "source": [
    "class Solution {\n",
    "    public int evalRPN(String[] tokens) {\n",
    "        Stack<Integer> stack = new Stack<>();\n",
    "        for (String c : tokens) {\n",
    "            if (c.equals(\"+\")) {\n",
    "                stack.push(stack.pop() + stack.pop());\n",
    "            } else if (c.equals(\"-\")) {\n",
    "                int a = stack.pop();\n",
    "                int b = stack.pop();\n",
    "                stack.push(b - a);\n",
    "            } else if (c.equals(\"*\")) {\n",
    "                stack.push(stack.pop() * stack.pop());\n",
    "            } else if (c.equals(\"/\")) {\n",
    "                int a = stack.pop();\n",
    "                int b = stack.pop();\n",
    "                stack.push(b / a);\n",
    "            } else {\n",
    "                stack.push(Integer.parseInt(c));\n",
    "            }\n",
    "        }\n",
    "        return stack.pop();\n",
    "    }\n",
    "}"
   ]
  },
  {
   "cell_type": "markdown",
   "id": "a3d33b9f",
   "metadata": {},
   "source": [
    "# Generate Parentheses\n",
    "You are given an integer n. Return all well-formed parentheses strings that you can generate with n pairs of parentheses."
   ]
  },
  {
   "cell_type": "raw",
   "metadata": {
    "vscode": {
     "languageId": "raw"
    }
   },
   "source": [
    "class Solution {\n",
    "    public List<String> generateParenthesis(int n) {\n",
    "        List<String> res = new ArrayList();\n",
    "        generate(res,0,0,n,\"\");\n",
    "        return res;\n",
    "    }\n",
    "\n",
    "    void generate(List<String> res, int left, int right, int n, String current) {\n",
    "        if (current.length() == n * 2) {\n",
    "            res.add(current);\n",
    "            return;\n",
    "        }\n",
    "        if (left < n) {\n",
    "            generate(res, left + 1, right, n, current + \"(\");\n",
    "        }\n",
    "        if (right < left) {\n",
    "            generate(res, left, right + 1, n, current + \")\");\n",
    "        }\n",
    "    }\n",
    "}\n"
   ]
  },
  {
   "cell_type": "markdown",
   "id": "07f3b9cd",
   "metadata": {},
   "source": [
    "# Daily Temperatures\n",
    "You are given an array of integers temperatures where temperatures[i] represents the daily temperatures on the ith day.\n",
    "\n",
    "Return an array result where result[i] is the number of days after the ith day before a warmer temperature appears on a future day. If there is no day in the future where a warmer temperature will appear for the ith day, set result[i] to 0 instead."
   ]
  },
  {
   "cell_type": "raw",
   "id": "944b05f3",
   "metadata": {
    "vscode": {
     "languageId": "raw"
    }
   },
   "source": [
    "class Solution {\n",
    "    public int[] dailyTemperatures(int[] temperatures) {\n",
    "        int[] results = new int[temperatures.length];\n",
    "        for (int i = 0; i < temperatures.length; i++) {\n",
    "            for (int j = i; j < temperatures.length; j++) {\n",
    "                if (temperatures[j] > temperatures[i]) {\n",
    "                    results[i] = j - i;\n",
    "                    break;\n",
    "                }\n",
    "            }\n",
    "        }\n",
    "        return results;\n",
    "    }\n",
    "}"
   ]
  },
  {
   "cell_type": "raw",
   "id": "5f5da664",
   "metadata": {
    "vscode": {
     "languageId": "raw"
    }
   },
   "source": [
    "public class DailyTemperatures {\n",
    "\n",
    "  public int[] dailyTemperatures(int[] temperatures) {\n",
    "\n",
    "    Stack<Integer> helperStack = new Stack<>();\n",
    "\n",
    "    int n = temperatures.length;\n",
    "    int[] result = new int[n];\n",
    "\n",
    "    for(int idx = n - 1; idx >= 0; idx--) {\n",
    "\n",
    "      // Popping all indices with a lower or equal\n",
    "      // temperature than the current index\n",
    "      while(!helperStack.isEmpty()\n",
    "          && temperatures[idx] >= temperatures[helperStack.peek()]) {\n",
    "        helperStack.pop();\n",
    "      }\n",
    "\n",
    "      // If the stack still has elements,\n",
    "      // then the next warmer temperature exists!\n",
    "      if(!helperStack.isEmpty()) {\n",
    "        result[idx] = helperStack.peek() - idx;\n",
    "      }\n",
    "\n",
    "      // Inserting current index in the stack\n",
    "      helperStack.push(idx);\n",
    "    }\n",
    "\n",
    "    return result;\n",
    "  }\n",
    "\n",
    "}"
   ]
  },
  {
   "cell_type": "markdown",
   "id": "7443b0d5",
   "metadata": {},
   "source": [
    "# Car Fleet\n",
    "There are n cars traveling to the same destination on a one-lane highway.\n",
    "\n",
    "You are given two arrays of integers position and speed, both of length n.\n",
    "\n",
    "position[i] is the position of the ith car (in miles)\n",
    "speed[i] is the speed of the ith car (in miles per hour)\n",
    "The destination is at position target miles.\n",
    "\n",
    "A car can not pass another car ahead of it. It can only catch up to another car and then drive at the same speed as the car ahead of it.\n",
    "\n",
    "A car fleet is a non-empty set of cars driving at the same position and same speed. A single car is also considered a car fleet.\n",
    "\n",
    "If a car catches up to a car fleet the moment the fleet reaches the destination, then the car is considered to be part of the fleet.\n",
    "\n",
    "Return the number of different car fleets that will arrive at the destination."
   ]
  },
  {
   "cell_type": "raw",
   "id": "0c89d1ec",
   "metadata": {
    "vscode": {
     "languageId": "raw"
    }
   },
   "source": [
    "public class Solution {\n",
    "    public int carFleet(int target, int[] position, int[] speed) {\n",
    "        int[][] pair = new int[position.length][2];\n",
    "        for (int i = 0; i < position.length; i++) {\n",
    "            pair[i][0] = position[i];\n",
    "            pair[i][1] = speed[i];\n",
    "        }\n",
    "        Arrays.sort(pair, (a, b) -> Integer.compare(b[0], a[0]));\n",
    "        Stack<Double> stack = new Stack<>();\n",
    "        for (int[] p : pair) {\n",
    "            stack.push((double) (target - p[0]) / p[1]);\n",
    "            if (stack.size() >= 2 && \n",
    "                stack.peek() <= stack.get(stack.size() - 2)) \n",
    "            {\n",
    "                stack.pop();\n",
    "            }\n",
    "        }\n",
    "        return stack.size();\n",
    "    }\n",
    "}"
   ]
  },
  {
   "cell_type": "raw",
   "metadata": {
    "vscode": {
     "languageId": "raw"
    }
   },
   "source": [
    "public class Solution {\n",
    "    public int carFleet(int target, int[] position, int[] speed) {\n",
    "        int n = position.length;\n",
    "        int[][] pair = new int[n][2];\n",
    "        for (int i = 0; i < n; i++) {\n",
    "            pair[i][0] = position[i];\n",
    "            pair[i][1] = speed[i];\n",
    "        }\n",
    "        Arrays.sort(pair, (a, b) -> Integer.compare(b[0], a[0]));\n",
    "        \n",
    "        int fleets = 1;\n",
    "        double prevTime = (double)(target - pair[0][0]) / pair[0][1];\n",
    "        for (int i = 1; i < n; i++) {\n",
    "            double currTime = (double)(target - pair[i][0]) / pair[i][1];\n",
    "            if (currTime > prevTime) {\n",
    "                fleets++;\n",
    "                prevTime = currTime;\n",
    "            }\n",
    "        }\n",
    "        return fleets;\n",
    "    }\n",
    "}"
   ]
  },
  {
   "cell_type": "markdown",
   "id": "e67be013",
   "metadata": {},
   "source": [
    "# Largest Rectangle In Histogram\n",
    "You are given an array of integers heights where heights[i] represents the height of a bar. The width of each bar is 1.\n",
    "\n",
    "Return the area of the largest rectangle that can be formed among the bars.\n",
    "\n",
    "Note: This chart is known as a histogram.\n",
    "\n"
   ]
  },
  {
   "cell_type": "raw",
   "metadata": {
    "vscode": {
     "languageId": "raw"
    }
   },
   "source": [
    "class Solution {\n",
    "    public int largestRectangleArea(int[] heights) {\n",
    "        int max = 0;\n",
    "        for (int i = 0; i < heights.length; i++) {\n",
    "            int minHeight = heights[i];\n",
    "            int areaI = heights[i];\n",
    "            for (int j = i + 1; j < heights.length; j++) {\n",
    "                minHeight = Math.min(minHeight, heights[j]);\n",
    "                if (areaI < (minHeight * (j - i + 1))) {\n",
    "                    areaI = (minHeight * (j - i + 1));\n",
    "                    System.out.println(areaI);\n",
    "                }\n",
    "            }\n",
    "            if (areaI > max) {\n",
    "                max = areaI;\n",
    "                System.out.println(max);\n",
    "            }\n",
    "        }\n",
    "        return max;\n",
    "        \n",
    "    }\n",
    "}\n"
   ]
  },
  {
   "cell_type": "raw",
   "id": "8bbe0906",
   "metadata": {
    "vscode": {
     "languageId": "raw"
    }
   },
   "source": [
    "class Solution {\n",
    "    public int largestRectangleArea(int[] heights) {\n",
    "        int maxArea = 0;\n",
    "        Stack<int[]> stack = new Stack<>(); // pair: (index, height)\n",
    "\n",
    "        for (int i = 0; i < heights.length; i++) {\n",
    "            int start = i;\n",
    "            while (!stack.isEmpty() && stack.peek()[1] > heights[i]) {\n",
    "                int[] top = stack.pop();\n",
    "                int index = top[0];\n",
    "                int height = top[1];\n",
    "                maxArea = Math.max(maxArea, height * (i - index));\n",
    "                start = index;\n",
    "            }\n",
    "            stack.push(new int[]{start, heights[i]});\n",
    "        }\n",
    "\n",
    "        for (int[] pair : stack) {\n",
    "            int index = pair[0];\n",
    "            int height = pair[1];\n",
    "            maxArea = Math.max(maxArea, height * (heights.length - index));\n",
    "        }\n",
    "        return maxArea;\n",
    "    }\n",
    "}"
   ]
  }
 ],
 "metadata": {
  "kernelspec": {
   "display_name": "base",
   "language": "python",
   "name": "python3"
  },
  "language_info": {
   "codemirror_mode": {
    "name": "ipython",
    "version": 3
   },
   "file_extension": ".py",
   "mimetype": "text/x-python",
   "name": "python",
   "nbconvert_exporter": "python",
   "pygments_lexer": "ipython3",
   "version": "3.12.4"
  }
 },
 "nbformat": 4,
 "nbformat_minor": 5
}
